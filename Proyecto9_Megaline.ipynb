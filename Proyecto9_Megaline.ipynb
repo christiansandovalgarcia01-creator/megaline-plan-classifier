{
 "cells": [
  {
   "cell_type": "markdown",
   "metadata": {},
   "source": [
    "1)Imports + configuración"
   ]
  },
  {
   "cell_type": "code",
   "execution_count": 1,
   "metadata": {},
   "outputs": [
    {
     "name": "stdout",
     "output_type": "stream",
     "text": [
      "Imports OK\n"
     ]
    }
   ],
   "source": [
    "# === Proyecto 9 — Megaline (Smart vs Ultra) ===\n",
    "# Estructura:\n",
    "# 1) Cargar y explorar datos\n",
    "# 2) Split: train/valid/test (60/20/20)\n",
    "# 3) Comparar modelos + hiperparámetros mínimos\n",
    "# 4) Mejor modelo → evaluación en TEST\n",
    "# 5) Prueba de cordura (baselines)\n",
    "# 6) Conclusión\n",
    "\n",
    "import numpy as np\n",
    "import pandas as pd\n",
    "import matplotlib.pyplot as plt\n",
    "\n",
    "from sklearn.model_selection import train_test_split\n",
    "from sklearn.metrics import accuracy_score, classification_report, confusion_matrix\n",
    "from sklearn.preprocessing import StandardScaler\n",
    "from sklearn.pipeline import Pipeline\n",
    "from sklearn.dummy import DummyClassifier\n",
    "from sklearn.tree import DecisionTreeClassifier\n",
    "from sklearn.ensemble import RandomForestClassifier\n",
    "from sklearn.linear_model import LogisticRegression\n",
    "\n",
    "RANDOM_STATE = 42\n",
    "np.random.seed(RANDOM_STATE)\n",
    "\n",
    "print(\"Imports OK\")\n"
   ]
  },
  {
   "cell_type": "markdown",
   "metadata": {},
   "source": [
    "2)Carga y exploración rápida del dataset"
   ]
  },
  {
   "cell_type": "code",
   "execution_count": 2,
   "metadata": {},
   "outputs": [
    {
     "name": "stdout",
     "output_type": "stream",
     "text": [
      "Filas: 3214 | Columnas: 5\n"
     ]
    },
    {
     "data": {
      "text/html": [
       "<div>\n",
       "<style scoped>\n",
       "    .dataframe tbody tr th:only-of-type {\n",
       "        vertical-align: middle;\n",
       "    }\n",
       "\n",
       "    .dataframe tbody tr th {\n",
       "        vertical-align: top;\n",
       "    }\n",
       "\n",
       "    .dataframe thead th {\n",
       "        text-align: right;\n",
       "    }\n",
       "</style>\n",
       "<table border=\"1\" class=\"dataframe\">\n",
       "  <thead>\n",
       "    <tr style=\"text-align: right;\">\n",
       "      <th></th>\n",
       "      <th>calls</th>\n",
       "      <th>minutes</th>\n",
       "      <th>messages</th>\n",
       "      <th>mb_used</th>\n",
       "      <th>is_ultra</th>\n",
       "    </tr>\n",
       "  </thead>\n",
       "  <tbody>\n",
       "    <tr>\n",
       "      <th>0</th>\n",
       "      <td>40.0</td>\n",
       "      <td>311.90</td>\n",
       "      <td>83.0</td>\n",
       "      <td>19915.42</td>\n",
       "      <td>0</td>\n",
       "    </tr>\n",
       "    <tr>\n",
       "      <th>1</th>\n",
       "      <td>85.0</td>\n",
       "      <td>516.75</td>\n",
       "      <td>56.0</td>\n",
       "      <td>22696.96</td>\n",
       "      <td>0</td>\n",
       "    </tr>\n",
       "    <tr>\n",
       "      <th>2</th>\n",
       "      <td>77.0</td>\n",
       "      <td>467.66</td>\n",
       "      <td>86.0</td>\n",
       "      <td>21060.45</td>\n",
       "      <td>0</td>\n",
       "    </tr>\n",
       "    <tr>\n",
       "      <th>3</th>\n",
       "      <td>106.0</td>\n",
       "      <td>745.53</td>\n",
       "      <td>81.0</td>\n",
       "      <td>8437.39</td>\n",
       "      <td>1</td>\n",
       "    </tr>\n",
       "    <tr>\n",
       "      <th>4</th>\n",
       "      <td>66.0</td>\n",
       "      <td>418.74</td>\n",
       "      <td>1.0</td>\n",
       "      <td>14502.75</td>\n",
       "      <td>0</td>\n",
       "    </tr>\n",
       "  </tbody>\n",
       "</table>\n",
       "</div>"
      ],
      "text/plain": [
       "   calls  minutes  messages   mb_used  is_ultra\n",
       "0   40.0   311.90      83.0  19915.42         0\n",
       "1   85.0   516.75      56.0  22696.96         0\n",
       "2   77.0   467.66      86.0  21060.45         0\n",
       "3  106.0   745.53      81.0   8437.39         1\n",
       "4   66.0   418.74       1.0  14502.75         0"
      ]
     },
     "metadata": {},
     "output_type": "display_data"
    },
    {
     "name": "stdout",
     "output_type": "stream",
     "text": [
      "\n",
      "Tipos de datos:\n",
      "calls       float64\n",
      "minutes     float64\n",
      "messages    float64\n",
      "mb_used     float64\n",
      "is_ultra      int64\n",
      "dtype: object\n",
      "\n",
      "Valores faltantes por columna:\n",
      "calls       0\n",
      "minutes     0\n",
      "messages    0\n",
      "mb_used     0\n",
      "is_ultra    0\n",
      "dtype: int64\n",
      "\n",
      "Descripción estadística:\n"
     ]
    },
    {
     "data": {
      "text/html": [
       "<div>\n",
       "<style scoped>\n",
       "    .dataframe tbody tr th:only-of-type {\n",
       "        vertical-align: middle;\n",
       "    }\n",
       "\n",
       "    .dataframe tbody tr th {\n",
       "        vertical-align: top;\n",
       "    }\n",
       "\n",
       "    .dataframe thead th {\n",
       "        text-align: right;\n",
       "    }\n",
       "</style>\n",
       "<table border=\"1\" class=\"dataframe\">\n",
       "  <thead>\n",
       "    <tr style=\"text-align: right;\">\n",
       "      <th></th>\n",
       "      <th>calls</th>\n",
       "      <th>minutes</th>\n",
       "      <th>messages</th>\n",
       "      <th>mb_used</th>\n",
       "      <th>is_ultra</th>\n",
       "    </tr>\n",
       "  </thead>\n",
       "  <tbody>\n",
       "    <tr>\n",
       "      <th>count</th>\n",
       "      <td>3214.000000</td>\n",
       "      <td>3214.000000</td>\n",
       "      <td>3214.000000</td>\n",
       "      <td>3214.000000</td>\n",
       "      <td>3214.000000</td>\n",
       "    </tr>\n",
       "    <tr>\n",
       "      <th>mean</th>\n",
       "      <td>63.038892</td>\n",
       "      <td>438.208787</td>\n",
       "      <td>38.281269</td>\n",
       "      <td>17207.673836</td>\n",
       "      <td>0.306472</td>\n",
       "    </tr>\n",
       "    <tr>\n",
       "      <th>std</th>\n",
       "      <td>33.236368</td>\n",
       "      <td>234.569872</td>\n",
       "      <td>36.148326</td>\n",
       "      <td>7570.968246</td>\n",
       "      <td>0.461100</td>\n",
       "    </tr>\n",
       "    <tr>\n",
       "      <th>min</th>\n",
       "      <td>0.000000</td>\n",
       "      <td>0.000000</td>\n",
       "      <td>0.000000</td>\n",
       "      <td>0.000000</td>\n",
       "      <td>0.000000</td>\n",
       "    </tr>\n",
       "    <tr>\n",
       "      <th>25%</th>\n",
       "      <td>40.000000</td>\n",
       "      <td>274.575000</td>\n",
       "      <td>9.000000</td>\n",
       "      <td>12491.902500</td>\n",
       "      <td>0.000000</td>\n",
       "    </tr>\n",
       "    <tr>\n",
       "      <th>50%</th>\n",
       "      <td>62.000000</td>\n",
       "      <td>430.600000</td>\n",
       "      <td>30.000000</td>\n",
       "      <td>16943.235000</td>\n",
       "      <td>0.000000</td>\n",
       "    </tr>\n",
       "    <tr>\n",
       "      <th>75%</th>\n",
       "      <td>82.000000</td>\n",
       "      <td>571.927500</td>\n",
       "      <td>57.000000</td>\n",
       "      <td>21424.700000</td>\n",
       "      <td>1.000000</td>\n",
       "    </tr>\n",
       "    <tr>\n",
       "      <th>max</th>\n",
       "      <td>244.000000</td>\n",
       "      <td>1632.060000</td>\n",
       "      <td>224.000000</td>\n",
       "      <td>49745.730000</td>\n",
       "      <td>1.000000</td>\n",
       "    </tr>\n",
       "  </tbody>\n",
       "</table>\n",
       "</div>"
      ],
      "text/plain": [
       "             calls      minutes     messages       mb_used     is_ultra\n",
       "count  3214.000000  3214.000000  3214.000000   3214.000000  3214.000000\n",
       "mean     63.038892   438.208787    38.281269  17207.673836     0.306472\n",
       "std      33.236368   234.569872    36.148326   7570.968246     0.461100\n",
       "min       0.000000     0.000000     0.000000      0.000000     0.000000\n",
       "25%      40.000000   274.575000     9.000000  12491.902500     0.000000\n",
       "50%      62.000000   430.600000    30.000000  16943.235000     0.000000\n",
       "75%      82.000000   571.927500    57.000000  21424.700000     1.000000\n",
       "max     244.000000  1632.060000   224.000000  49745.730000     1.000000"
      ]
     },
     "metadata": {},
     "output_type": "display_data"
    }
   ],
   "source": [
    "DATA_PATH = \"/datasets/users_behavior.csv\"\n",
    "\n",
    "df = pd.read_csv(DATA_PATH)\n",
    "print(f\"Filas: {df.shape[0]} | Columnas: {df.shape[1]}\")\n",
    "display(df.head())\n",
    "\n",
    "print(\"\\nTipos de datos:\")\n",
    "print(df.dtypes)\n",
    "\n",
    "print(\"\\nValores faltantes por columna:\")\n",
    "print(df.isna().sum())\n",
    "\n",
    "print(\"\\nDescripción estadística:\")\n",
    "display(df.describe())\n"
   ]
  },
  {
   "cell_type": "markdown",
   "metadata": {},
   "source": [
    "3)Segmentación en train/valid/test (60/20/20 con estratificación)"
   ]
  },
  {
   "cell_type": "code",
   "execution_count": 3,
   "metadata": {},
   "outputs": [
    {
     "name": "stdout",
     "output_type": "stream",
     "text": [
      "Tamaños → train: 1928 | valid: 643 | test: 643\n"
     ]
    },
    {
     "data": {
      "text/html": [
       "<style  type=\"text/css\" >\n",
       "</style><table id=\"T_9fef8_\" ><thead>    <tr>        <th class=\"blank level0\" ></th>        <th class=\"col_heading level0 col0\" >0</th>        <th class=\"col_heading level0 col1\" >1</th>    </tr></thead><tbody>\n",
       "                <tr>\n",
       "                        <th id=\"T_9fef8_level0_row0\" class=\"row_heading level0 row0\" >train</th>\n",
       "                        <td id=\"T_9fef8_row0_col0\" class=\"data row0 col0\" >0.693</td>\n",
       "                        <td id=\"T_9fef8_row0_col1\" class=\"data row0 col1\" >0.307</td>\n",
       "            </tr>\n",
       "            <tr>\n",
       "                        <th id=\"T_9fef8_level0_row1\" class=\"row_heading level0 row1\" >valid</th>\n",
       "                        <td id=\"T_9fef8_row1_col0\" class=\"data row1 col0\" >0.694</td>\n",
       "                        <td id=\"T_9fef8_row1_col1\" class=\"data row1 col1\" >0.306</td>\n",
       "            </tr>\n",
       "            <tr>\n",
       "                        <th id=\"T_9fef8_level0_row2\" class=\"row_heading level0 row2\" >test</th>\n",
       "                        <td id=\"T_9fef8_row2_col0\" class=\"data row2 col0\" >0.694</td>\n",
       "                        <td id=\"T_9fef8_row2_col1\" class=\"data row2 col1\" >0.306</td>\n",
       "            </tr>\n",
       "    </tbody></table>"
      ],
      "text/plain": [
       "<pandas.io.formats.style.Styler at 0x7fc0cc5a1910>"
      ]
     },
     "metadata": {},
     "output_type": "display_data"
    }
   ],
   "source": [
    "features = [\"calls\", \"minutes\", \"messages\", \"mb_used\"]\n",
    "target   = \"is_ultra\"\n",
    "\n",
    "X = df[features]\n",
    "y = df[target]\n",
    "\n",
    "# 20% TEST, 80% resto\n",
    "X_train_valid, X_test, y_train_valid, y_test = train_test_split(\n",
    "    X, y, test_size=0.20, random_state=RANDOM_STATE, stratify=y\n",
    ")\n",
    "\n",
    "# Del 80% restante, 25% a VALID ⇒ 0.8 * 0.25 = 0.20 total\n",
    "X_train, X_valid, y_train, y_valid = train_test_split(\n",
    "    X_train_valid, y_train_valid,\n",
    "    test_size=0.25, random_state=RANDOM_STATE, stratify=y_train_valid\n",
    ")\n",
    "\n",
    "print(f\"Tamaños → train: {len(X_train)} | valid: {len(X_valid)} | test: {len(X_test)}\")\n",
    "\n",
    "# Proporción de clases por split (sanity check de estratificación)\n",
    "split_props = pd.DataFrame({\n",
    "    \"train\": y_train.value_counts(normalize=True),\n",
    "    \"valid\": y_valid.value_counts(normalize=True),\n",
    "    \"test\":  y_test.value_counts(normalize=True),\n",
    "}).T.fillna(0)\n",
    "display(split_props.style.format(\"{:.3f}\"))\n"
   ]
  },
  {
   "cell_type": "markdown",
   "metadata": {},
   "source": [
    "4)Entrenamiento y comparación de modelos (rápido y eficiente)"
   ]
  },
  {
   "cell_type": "code",
   "execution_count": 4,
   "metadata": {},
   "outputs": [
    {
     "data": {
      "text/html": [
       "<style  type=\"text/css\" >\n",
       "</style><table id=\"T_4a783_\" ><thead>    <tr>        <th class=\"blank level0\" ></th>        <th class=\"col_heading level0 col0\" >Modelo</th>        <th class=\"col_heading level0 col1\" >Accuracy_VALID</th>    </tr></thead><tbody>\n",
       "                <tr>\n",
       "                        <th id=\"T_4a783_level0_row0\" class=\"row_heading level0 row0\" >2</th>\n",
       "                        <td id=\"T_4a783_row0_col0\" class=\"data row0 col0\" >DecisionTree{'max_depth': 5, 'min_samples_split': 2, 'min_samples_leaf': 1}</td>\n",
       "                        <td id=\"T_4a783_row0_col1\" class=\"data row0 col1\" >0.7900</td>\n",
       "            </tr>\n",
       "            <tr>\n",
       "                        <th id=\"T_4a783_level0_row1\" class=\"row_heading level0 row1\" >3</th>\n",
       "                        <td id=\"T_4a783_row1_col0\" class=\"data row1 col0\" >RandomForest{'n_estimators': 300, 'max_depth': None, 'min_samples_split': 2, 'min_samples_leaf': 1}</td>\n",
       "                        <td id=\"T_4a783_row1_col1\" class=\"data row1 col1\" >0.7885</td>\n",
       "            </tr>\n",
       "            <tr>\n",
       "                        <th id=\"T_4a783_level0_row2\" class=\"row_heading level0 row2\" >1</th>\n",
       "                        <td id=\"T_4a783_row2_col0\" class=\"data row2 col0\" >LogisticRegression</td>\n",
       "                        <td id=\"T_4a783_row2_col1\" class=\"data row2 col1\" >0.7449</td>\n",
       "            </tr>\n",
       "            <tr>\n",
       "                        <th id=\"T_4a783_level0_row3\" class=\"row_heading level0 row3\" >0</th>\n",
       "                        <td id=\"T_4a783_row3_col0\" class=\"data row3 col0\" >Dummy(most_frequent)</td>\n",
       "                        <td id=\"T_4a783_row3_col1\" class=\"data row3 col1\" >0.6936</td>\n",
       "            </tr>\n",
       "    </tbody></table>"
      ],
      "text/plain": [
       "<pandas.io.formats.style.Styler at 0x7fc0bccf6520>"
      ]
     },
     "metadata": {},
     "output_type": "display_data"
    },
    {
     "name": "stdout",
     "output_type": "stream",
     "text": [
      "Mejor en VALID → DecisionTree{'max_depth': 5, 'min_samples_split': 2, 'min_samples_leaf': 1} | acc=0.7900\n",
      "Hiperparámetros: {'max_depth': 5, 'min_samples_split': 2, 'min_samples_leaf': 1}\n"
     ]
    }
   ],
   "source": [
    "resultados = []\n",
    "\n",
    "# Baseline (para tener referencia mínima)\n",
    "dummy = DummyClassifier(strategy=\"most_frequent\", random_state=RANDOM_STATE)\n",
    "dummy.fit(X_train, y_train)\n",
    "acc_dummy_valid = accuracy_score(y_valid, dummy.predict(X_valid))\n",
    "resultados.append((\"Dummy(most_frequent)\", acc_dummy_valid))\n",
    "\n",
    "# Regresión Logística (con escalado)\n",
    "logreg = Pipeline([\n",
    "    (\"scaler\", StandardScaler()),\n",
    "    (\"clf\", LogisticRegression(max_iter=1000, random_state=RANDOM_STATE))\n",
    "])\n",
    "logreg.fit(X_train, y_train)\n",
    "acc_logreg_valid = accuracy_score(y_valid, logreg.predict(X_valid))\n",
    "resultados.append((\"LogisticRegression\", acc_logreg_valid))\n",
    "\n",
    "# Árbol de decisión (3 configs rápidas)\n",
    "tree_cfgs = [\n",
    "    {\"max_depth\": 5,  \"min_samples_split\": 2, \"min_samples_leaf\": 1},\n",
    "    {\"max_depth\": 7,  \"min_samples_split\": 5, \"min_samples_leaf\": 2},\n",
    "    {\"max_depth\": None, \"min_samples_split\": 10, \"min_samples_leaf\": 2},\n",
    "]\n",
    "best_tree, best_tree_acc, best_tree_cfg = None, -1, None\n",
    "for cfg in tree_cfgs:\n",
    "    m = DecisionTreeClassifier(random_state=RANDOM_STATE, **cfg)\n",
    "    m.fit(X_train, y_train)\n",
    "    acc = accuracy_score(y_valid, m.predict(X_valid))\n",
    "    if acc > best_tree_acc:\n",
    "        best_tree_acc, best_tree, best_tree_cfg = acc, m, cfg\n",
    "resultados.append((f\"DecisionTree{best_tree_cfg}\", best_tree_acc))\n",
    "\n",
    "# Random Forest (3 configs rápidas)\n",
    "rf_cfgs = [\n",
    "    {\"n_estimators\": 150, \"max_depth\": None, \"min_samples_split\": 2, \"min_samples_leaf\": 1},\n",
    "    {\"n_estimators\": 150, \"max_depth\": 10,   \"min_samples_split\": 2, \"min_samples_leaf\": 1},\n",
    "    {\"n_estimators\": 300, \"max_depth\": None, \"min_samples_split\": 2, \"min_samples_leaf\": 1},\n",
    "]\n",
    "best_rf, best_rf_acc, best_rf_cfg = None, -1, None\n",
    "for cfg in rf_cfgs:\n",
    "    m = RandomForestClassifier(random_state=RANDOM_STATE, n_jobs=-1, **cfg)\n",
    "    m.fit(X_train, y_train)\n",
    "    acc = accuracy_score(y_valid, m.predict(X_valid))\n",
    "    if acc > best_rf_acc:\n",
    "        best_rf_acc, best_rf, best_rf_cfg = acc, m, cfg\n",
    "resultados.append((f\"RandomForest{best_rf_cfg}\", best_rf_acc))\n",
    "\n",
    "res_df = pd.DataFrame(resultados, columns=[\"Modelo\", \"Accuracy_VALID\"]).sort_values(\"Accuracy_VALID\", ascending=False)\n",
    "display(res_df.style.format({\"Accuracy_VALID\": \"{:.4f}\"}))\n",
    "\n",
    "# Selección del mejor para pasar a TEST\n",
    "best_name, best_valid_acc = res_df.iloc[0][\"Modelo\"], res_df.iloc[0][\"Accuracy_VALID\"]\n",
    "if best_name.startswith(\"RandomForest\"):\n",
    "    best_model = best_rf\n",
    "    best_params = best_rf_cfg\n",
    "elif best_name.startswith(\"DecisionTree\"):\n",
    "    best_model = best_tree\n",
    "    best_params = best_tree_cfg\n",
    "elif best_name.startswith(\"LogisticRegression\"):\n",
    "    best_model = logreg\n",
    "    best_params = {\"C\": \"default\", \"penalty\": \"l2\", \"solver\": \"lbfgs\"}\n",
    "else:\n",
    "    best_model = dummy\n",
    "    best_params = {}\n",
    "\n",
    "print(f\"Mejor en VALID → {best_name} | acc={best_valid_acc:.4f}\")\n",
    "print(f\"Hiperparámetros: {best_params}\")\n"
   ]
  },
  {
   "cell_type": "markdown",
   "metadata": {},
   "source": [
    "5)Evaluación final en TEST + matriz de confusión"
   ]
  },
  {
   "cell_type": "code",
   "execution_count": 5,
   "metadata": {},
   "outputs": [
    {
     "name": "stdout",
     "output_type": "stream",
     "text": [
      "Accuracy en TEST: 0.8009  (umbral requerido ≥ 0.75)\n",
      "\n",
      "Classification report (TEST):\n",
      "              precision    recall  f1-score   support\n",
      "\n",
      "    Smart(0)       0.79      0.97      0.87       446\n",
      "    Ultra(1)       0.85      0.43      0.57       197\n",
      "\n",
      "    accuracy                           0.80       643\n",
      "   macro avg       0.82      0.70      0.72       643\n",
      "weighted avg       0.81      0.80      0.78       643\n",
      "\n"
     ]
    },
    {
     "data": {
      "image/png": "[encoded data removed]",
      "text/plain": [
       "<Figure size 640x480 with 2 Axes>"
      ]
     },
     "metadata": {},
     "output_type": "display_data"
    }
   ],
   "source": [
    "y_pred_test = best_model.predict(X_test)\n",
    "test_acc = accuracy_score(y_test, y_pred_test)\n",
    "\n",
    "print(f\"Accuracy en TEST: {test_acc:.4f}  (umbral requerido ≥ 0.75)\")\n",
    "print(\"\\nClassification report (TEST):\")\n",
    "print(classification_report(y_test, y_pred_test, target_names=[\"Smart(0)\", \"Ultra(1)\"]))\n",
    "\n",
    "cm = confusion_matrix(y_test, y_pred_test)\n",
    "\n",
    "plt.figure()\n",
    "plt.imshow(cm, interpolation='nearest')\n",
    "plt.title('Confusion Matrix (TEST)')\n",
    "plt.xlabel('Predicted')\n",
    "plt.ylabel('True')\n",
    "plt.colorbar()\n",
    "ticks = np.arange(2)\n",
    "plt.xticks(ticks, ['Smart(0)', 'Ultra(1)'], rotation=45)\n",
    "plt.yticks(ticks, ['Smart(0)', 'Ultra(1)'])\n",
    "for i in range(cm.shape[0]):\n",
    "    for j in range(cm.shape[1]):\n",
    "        plt.text(j, i, cm[i, j], ha=\"center\", va=\"center\")\n",
    "plt.tight_layout()\n",
    "plt.show()\n",
    "\n",
    "# Asegurar el objetivo del proyecto\n",
    "assert test_acc >= 0.75, \"⚠️ La exactitud en TEST no alcanzó 0.75. Revisa hiperparámetros o prueba más features.\"\n"
   ]
  },
  {
   "cell_type": "markdown",
   "metadata": {},
   "source": [
    "6)Prueba de cordura (baselines vs ganador en TEST)"
   ]
  },
  {
   "cell_type": "code",
   "execution_count": 6,
   "metadata": {},
   "outputs": [
    {
     "data": {
      "text/html": [
       "<style  type=\"text/css\" >\n",
       "</style><table id=\"T_f131d_\" ><thead>    <tr>        <th class=\"blank level0\" ></th>        <th class=\"col_heading level0 col0\" >Modelo</th>        <th class=\"col_heading level0 col1\" >Accuracy(TEST)</th>    </tr></thead><tbody>\n",
       "                <tr>\n",
       "                        <th id=\"T_f131d_level0_row0\" class=\"row_heading level0 row0\" >0</th>\n",
       "                        <td id=\"T_f131d_row0_col0\" class=\"data row0 col0\" >Dummy(uniform)</td>\n",
       "                        <td id=\"T_f131d_row0_col1\" class=\"data row0 col1\" >0.4914</td>\n",
       "            </tr>\n",
       "            <tr>\n",
       "                        <th id=\"T_f131d_level0_row1\" class=\"row_heading level0 row1\" >1</th>\n",
       "                        <td id=\"T_f131d_row1_col0\" class=\"data row1 col0\" >Dummy(most_frequent)</td>\n",
       "                        <td id=\"T_f131d_row1_col1\" class=\"data row1 col1\" >0.6936</td>\n",
       "            </tr>\n",
       "            <tr>\n",
       "                        <th id=\"T_f131d_level0_row2\" class=\"row_heading level0 row2\" >2</th>\n",
       "                        <td id=\"T_f131d_row2_col0\" class=\"data row2 col0\" >Mejor modelo</td>\n",
       "                        <td id=\"T_f131d_row2_col1\" class=\"data row2 col1\" >0.8009</td>\n",
       "            </tr>\n",
       "    </tbody></table>"
      ],
      "text/plain": [
       "<pandas.io.formats.style.Styler at 0x7fc088ea4c40>"
      ]
     },
     "metadata": {},
     "output_type": "display_data"
    }
   ],
   "source": [
    "dummy_uniform = DummyClassifier(strategy=\"uniform\", random_state=RANDOM_STATE).fit(X_train, y_train)\n",
    "acc_uniform_test = accuracy_score(y_test, dummy_uniform.predict(X_test))\n",
    "\n",
    "dummy_mf = DummyClassifier(strategy=\"most_frequent\", random_state=RANDOM_STATE).fit(X_train, y_train)\n",
    "acc_mf_test = accuracy_score(y_test, dummy_mf.predict(X_test))\n",
    "\n",
    "sanity = pd.DataFrame({\n",
    "    \"Modelo\": [\"Dummy(uniform)\", \"Dummy(most_frequent)\", \"Mejor modelo\"],\n",
    "    \"Accuracy(TEST)\": [acc_uniform_test, acc_mf_test, test_acc]\n",
    "})\n",
    "display(sanity.style.format({\"Accuracy(TEST)\": \"{:.4f}\"}))\n"
   ]
  },
  {
   "cell_type": "code",
   "execution_count": null,
   "metadata": {},
   "outputs": [],
   "source": []
  }
 ],
 "metadata": {
  "kernelspec": {
   "display_name": "Python 3 (ipykernel)",
   "language": "python",
   "name": "python3"
  },
  "language_info": {
   "codemirror_mode": {
    "name": "ipython",
    "version": 3
   },
   "file_extension": ".py",
   "mimetype": "text/x-python",
   "name": "python",
   "nbconvert_exporter": "python",
   "pygments_lexer": "ipython3",
   "version": "3.9.23"
  }
 },
 "nbformat": 4,
 "nbformat_minor": 4
}
